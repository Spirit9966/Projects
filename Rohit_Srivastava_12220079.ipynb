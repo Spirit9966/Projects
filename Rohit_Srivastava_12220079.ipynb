{
 "cells": [
  {
   "cell_type": "code",
   "execution_count": 1,
   "id": "51637b1c",
   "metadata": {},
   "outputs": [],
   "source": [
    "import pandas as pd\n",
    "import numpy as np\n",
    "from scipy.cluster.hierarchy import dendrogram, linkage\n",
    "import matplotlib.pyplot as plt\n",
    "from scipy.cluster.hierarchy import fcluster\n",
    "from scipy.cluster.hierarchy import cophenet\n",
    "from scipy.spatial.distance import pdist\n",
    "from sklearn.cluster import KMeans"
   ]
  },
  {
   "cell_type": "code",
   "execution_count": 2,
   "id": "cd732c0c",
   "metadata": {},
   "outputs": [],
   "source": [
    "# Loading the dataset\n",
    "data = pd.read_csv('C:/Users/Rohit Srivastava/OneDrive/Desktop/ISB/2nd Term/Assignments/ML UL/EastWestAirlinesCluster-updated.csv')\n",
    "data = pd.DataFrame(data)\n",
    "\n",
    "# Dropping categorical variables and unnecessary columns\n",
    "data.drop(['ID#', 'cc1_miles', 'cc2_miles', 'cc3_miles', 'Award?'], axis=1, inplace=True)\n",
    "\n",
    "# Standardizing the data\n",
    "data_std = (data - data.mean()) / data.std()"
   ]
  },
  {
   "cell_type": "code",
   "execution_count": 3,
   "id": "e1a22995",
   "metadata": {},
   "outputs": [
    {
     "name": "stdout",
     "output_type": "stream",
     "text": [
      "dataset shape:  (3999, 7)\n"
     ]
    }
   ],
   "source": [
    "print(\"dataset shape: \", data.shape)"
   ]
  },
  {
   "cell_type": "code",
   "execution_count": 4,
   "id": "8a390514",
   "metadata": {},
   "outputs": [
    {
     "data": {
      "text/html": [
       "<div>\n",
       "<style scoped>\n",
       "    .dataframe tbody tr th:only-of-type {\n",
       "        vertical-align: middle;\n",
       "    }\n",
       "\n",
       "    .dataframe tbody tr th {\n",
       "        vertical-align: top;\n",
       "    }\n",
       "\n",
       "    .dataframe thead th {\n",
       "        text-align: right;\n",
       "    }\n",
       "</style>\n",
       "<table border=\"1\" class=\"dataframe\">\n",
       "  <thead>\n",
       "    <tr style=\"text-align: right;\">\n",
       "      <th></th>\n",
       "      <th>Balance</th>\n",
       "      <th>Qual_miles</th>\n",
       "      <th>Bonus_miles</th>\n",
       "      <th>Bonus_trans</th>\n",
       "      <th>Flight_miles_12mo</th>\n",
       "      <th>Flight_trans_12</th>\n",
       "      <th>Days_since_enroll</th>\n",
       "    </tr>\n",
       "  </thead>\n",
       "  <tbody>\n",
       "    <tr>\n",
       "      <th>0</th>\n",
       "      <td>28143</td>\n",
       "      <td>0</td>\n",
       "      <td>174</td>\n",
       "      <td>1</td>\n",
       "      <td>0</td>\n",
       "      <td>0</td>\n",
       "      <td>7000</td>\n",
       "    </tr>\n",
       "    <tr>\n",
       "      <th>1</th>\n",
       "      <td>19244</td>\n",
       "      <td>0</td>\n",
       "      <td>215</td>\n",
       "      <td>2</td>\n",
       "      <td>0</td>\n",
       "      <td>0</td>\n",
       "      <td>6968</td>\n",
       "    </tr>\n",
       "    <tr>\n",
       "      <th>2</th>\n",
       "      <td>41354</td>\n",
       "      <td>0</td>\n",
       "      <td>4123</td>\n",
       "      <td>4</td>\n",
       "      <td>0</td>\n",
       "      <td>0</td>\n",
       "      <td>7034</td>\n",
       "    </tr>\n",
       "    <tr>\n",
       "      <th>3</th>\n",
       "      <td>14776</td>\n",
       "      <td>0</td>\n",
       "      <td>500</td>\n",
       "      <td>1</td>\n",
       "      <td>0</td>\n",
       "      <td>0</td>\n",
       "      <td>6952</td>\n",
       "    </tr>\n",
       "    <tr>\n",
       "      <th>4</th>\n",
       "      <td>97752</td>\n",
       "      <td>0</td>\n",
       "      <td>43300</td>\n",
       "      <td>26</td>\n",
       "      <td>2077</td>\n",
       "      <td>4</td>\n",
       "      <td>6935</td>\n",
       "    </tr>\n",
       "  </tbody>\n",
       "</table>\n",
       "</div>"
      ],
      "text/plain": [
       "   Balance  Qual_miles  Bonus_miles  Bonus_trans  Flight_miles_12mo  \\\n",
       "0    28143           0          174            1                  0   \n",
       "1    19244           0          215            2                  0   \n",
       "2    41354           0         4123            4                  0   \n",
       "3    14776           0          500            1                  0   \n",
       "4    97752           0        43300           26               2077   \n",
       "\n",
       "   Flight_trans_12  Days_since_enroll  \n",
       "0                0               7000  \n",
       "1                0               6968  \n",
       "2                0               7034  \n",
       "3                0               6952  \n",
       "4                4               6935  "
      ]
     },
     "execution_count": 4,
     "metadata": {},
     "output_type": "execute_result"
    }
   ],
   "source": [
    "data.head()"
   ]
  },
  {
   "cell_type": "code",
   "execution_count": 5,
   "id": "cae6dc4e",
   "metadata": {},
   "outputs": [
    {
     "name": "stdout",
     "output_type": "stream",
     "text": [
      "Max distance: 10, Number of clusters: 51\n",
      "Max distance: 20, Number of clusters: 17\n",
      "Max distance: 30, Number of clusters: 12\n",
      "Max distance: 40, Number of clusters: 8\n",
      "Max distance: 50, Number of clusters: 7\n",
      "Max distance: 60, Number of clusters: 5\n",
      "Max distance: 70, Number of clusters: 4\n",
      "Max distance: 80, Number of clusters: 2\n",
      "Max distance: 90, Number of clusters: 2\n"
     ]
    }
   ],
   "source": [
    "# Performing hierarchical clustering with Euclidean distance and Ward's method to determine the optimal number of clusters\n",
    "Z = linkage(data_std, method='ward', metric='euclidean')\n",
    "\n",
    "# Identifing the number of clusters\n",
    "from scipy.cluster.hierarchy import fcluster\n",
    "for max_d in range(10, 100, 10):\n",
    "    clusters = fcluster(Z, max_d, criterion='distance')\n",
    "    n_clusters = len(np.unique(clusters))\n",
    "    print(f\"Max distance: {max_d}, Number of clusters: {n_clusters}\")"
   ]
  },
  {
   "cell_type": "code",
   "execution_count": 6,
   "id": "e7c0971b",
   "metadata": {},
   "outputs": [
    {
     "data": {
      "image/png": "[encoded data removed]",
      "text/plain": [
       "<Figure size 1000x500 with 1 Axes>"
      ]
     },
     "metadata": {},
     "output_type": "display_data"
    },
    {
     "name": "stdout",
     "output_type": "stream",
     "text": [
      "Number of clusters: 4\n"
     ]
    }
   ],
   "source": [
    "# Plotting the dendrogram\n",
    "plt.figure(figsize=(10, 5))\n",
    "dendrogram(Z)\n",
    "plt.xlabel('Samples')\n",
    "plt.ylabel('Distance')\n",
    "plt.title('Dendrogram')\n",
    "plt.show()\n",
    "\n",
    "# Determining the number of clusters\n",
    "max_d = 70  # Maximum distance threshold\n",
    "clusters = fcluster(Z, max_d, criterion='distance')\n",
    "num_clusters = len(set(clusters))\n",
    "print(\"Number of clusters:\", num_clusters)"
   ]
  },
  {
   "cell_type": "code",
   "execution_count": 7,
   "id": "30f8bbce",
   "metadata": {},
   "outputs": [
    {
     "name": "stdout",
     "output_type": "stream",
     "text": [
      "Cophenetic correlation coefficient: 0.5334926995170839\n",
      "Number of clusters: 4\n",
      "Cluster centroids:\n",
      "      Balance  Qual_miles  Bonus_miles  Bonus_trans  Flight_miles_12mo  Flight_trans_12  Days_since_enroll\n",
      "135318.020833 5870.062500 16406.000000    12.645833         974.770833         3.270833        4320.375000\n",
      "197965.772397  189.113801 35735.278450    21.556901        3116.484262         8.917676        4654.670702\n",
      " 79910.013241  123.694876 26735.156592    16.832470         148.672424         0.483592        4727.468048\n",
      " 37353.074403    0.882288  3651.923931     4.246530         137.491394         0.451416        3402.970572\n"
     ]
    }
   ],
   "source": [
    "from scipy.cluster.hierarchy import cophenet\n",
    "from scipy.spatial.distance import pdist\n",
    "\n",
    "c, coph_dists = cophenet(Z, pdist(data_std))\n",
    "print(\"Cophenetic correlation coefficient:\", c)\n",
    "\n",
    "from scipy.cluster.hierarchy import fcluster\n",
    "max_d = 70\n",
    "clusters = fcluster(Z, max_d, criterion='distance')\n",
    "n_clusters = len(np.unique(clusters))\n",
    "print(\"Number of clusters:\", n_clusters)\n",
    "\n",
    "# Compare cluster centroids\n",
    "cluster_centroids = pd.DataFrame(columns=data.columns)\n",
    "for i in range(1, n_clusters+1):\n",
    "    cluster_centroids.loc[i] = data[clusters == i].mean()\n",
    "\n",
    "print(\"Cluster centroids:\")\n",
    "print(cluster_centroids.to_string(index=False))"
   ]
  },
  {
   "cell_type": "markdown",
   "id": "89d0d022",
   "metadata": {},
   "source": [
    "The cophenetic correlation coefficient is a measure of the correlation between the pairwise distances of the original data points and the distances calculated from the hierarchical clustering. In this case, the cophenetic correlation coefficient is 0.5335, indicating a moderate level of correlation.\n",
    "\n",
    "The number of clusters obtained from the hierarchical clustering analysis is 4. This means that the data points have been partitioned into four distinct clusters based on their similarity.\n",
    "\n",
    "The cluster centroids represent the average values of the original features within each cluster. Here is an interpretation of the centroid values for each cluster:\n",
    "\n",
    "Cluster 1:\n",
    "- Balance: The average balance in this cluster is around 135,318.\n",
    "- Qual_miles: Customers in this cluster have an average of 5,870 qualifying miles.\n",
    "- Bonus_miles: The average number of bonus miles is 16,406.\n",
    "- Bonus_trans: Customers in this cluster have an average of 12.65 bonus transactions.\n",
    "- Flight_miles_12mo: The average number of flight miles in the past 12 months is 974.77.\n",
    "- Flight_trans_12: Customers in this cluster have an average of 3.27 flight transactions.\n",
    "- Days_since_enroll: The average number of days since enrollment is 4,320.38.\n",
    "\n",
    "Cluster 2:\n",
    "- Balance: The average balance in this cluster is approximately 197,966.\n",
    "- Qual_miles: Customers in this cluster have an average of 189.11 qualifying miles.\n",
    "- Bonus_miles: The average number of bonus miles is 35,735.\n",
    "- Bonus_trans: Customers in this cluster have an average of 21.56 bonus transactions.\n",
    "- Flight_miles_12mo: The average number of flight miles in the past 12 months is 3,116.48.\n",
    "- Flight_trans_12: Customers in this cluster have an average of 8.92 flight transactions.\n",
    "- Days_since_enroll: The average number of days since enrollment is 4,654.67.\n",
    "\n",
    "Cluster 3:\n",
    "- Balance: The average balance in this cluster is around 79,910.\n",
    "- Qual_miles: Customers in this cluster have an average of 123.69 qualifying miles.\n",
    "- Bonus_miles: The average number of bonus miles is 26,735.\n",
    "- Bonus_trans: Customers in this cluster have an average of 16.83 bonus transactions.\n",
    "- Flight_miles_12mo: The average number of flight miles in the past 12 months is 148.67.\n",
    "- Flight_trans_12: Customers in this cluster have an average of 0.48 flight transactions.\n",
    "- Days_since_enroll: The average number of days since enrollment is 4,727.47.\n",
    "\n",
    "Cluster 4:\n",
    "- Balance: The average balance in this cluster is approximately 37,353.\n",
    "- Qual_miles: Customers in this cluster have an average of 0.88 qualifying miles.\n",
    "- Bonus_miles: The average number of bonus miles is 3,651.\n",
    "- Bonus_trans: Customers in this cluster have an average of 4.25 bonus transactions.\n",
    "- Flight_miles_12mo: The average number of flight miles in the past 12 months is 137.49.\n",
    "- Flight_trans_12: Customers in this cluster have an average of 0.45 flight transactions.\n",
    "- Days_since_enroll: The average number of days since enrollment is 3,402.97."
   ]
  },
  {
   "cell_type": "code",
   "execution_count": 8,
   "id": "7860886b",
   "metadata": {},
   "outputs": [
    {
     "name": "stdout",
     "output_type": "stream",
     "text": [
      "Cluster labels:\n",
      "              Cluster Label\n",
      "1      High-Value Travelers\n",
      "2         Occasional Flyers\n",
      "3             Bonus Seekers\n",
      "4  Luxury Credit Card Users\n"
     ]
    }
   ],
   "source": [
    "# Labelling the clusters\n",
    "cluster_labels = ['High-Value Travelers', 'Occasional Flyers', 'Bonus Seekers', 'Luxury Credit Card Users']\n",
    "if len(cluster_labels) != n_clusters:\n",
    "    cluster_labels = [f'Cluster {i}' for i in range(1, n_clusters + 1)]\n",
    "cluster_centroids['Cluster Label'] = cluster_labels\n",
    "print(\"Cluster labels:\")\n",
    "print(cluster_centroids[['Cluster Label']])"
   ]
  },
  {
   "cell_type": "code",
   "execution_count": 9,
   "id": "a7088a0c",
   "metadata": {},
   "outputs": [
    {
     "name": "stdout",
     "output_type": "stream",
     "text": [
      "Number of clusters (sample): 3\n"
     ]
    }
   ],
   "source": [
    "# Removing 5% of the data and repeat the analysis\n",
    "data_sample = data_std.sample(frac=0.95, random_state=1)\n",
    "Z_sample = linkage(data_sample, method='ward', metric='euclidean')\n",
    "clusters_sample = fcluster(Z_sample, max_d, criterion='distance')\n",
    "n_clusters_sample = len(np.unique(clusters_sample))\n",
    "print(\"Number of clusters (sample):\", n_clusters_sample)"
   ]
  },
  {
   "cell_type": "code",
   "execution_count": 10,
   "id": "362a834f",
   "metadata": {},
   "outputs": [
    {
     "data": {
      "image/png": "[encoded data removed]",
      "text/plain": [
       "<Figure size 640x480 with 1 Axes>"
      ]
     },
     "metadata": {},
     "output_type": "display_data"
    }
   ],
   "source": [
    "dendrogram(Z_sample)\n",
    "plt.title('Dendrogram')\n",
    "plt.xlabel('Samples')\n",
    "plt.ylabel('Distance')\n",
    "plt.show()"
   ]
  },
  {
   "cell_type": "code",
   "execution_count": 11,
   "id": "88220d4f",
   "metadata": {},
   "outputs": [
    {
     "name": "stdout",
     "output_type": "stream",
     "text": [
      "Cluster centroids (sample):\n",
      "    Balance  Qual_miles  Bonus_miles  Bonus_trans  Flight_miles_12mo  \\\n",
      "1 -0.298206   -0.104262    -0.364244    -0.307279          -0.241301   \n",
      "2  0.682281    0.345480     0.896621     2.399491           5.363269   \n",
      "3  0.859087    0.289340     1.020914     0.753871           0.369126   \n",
      "\n",
      "   Flight_trans_12  Days_since_enroll  \n",
      "1        -0.255316          -0.120178  \n",
      "2         5.445884           0.318248  \n",
      "3         0.402409           0.356585  \n"
     ]
    }
   ],
   "source": [
    "# Comparing cluster centroids after removing 5 % of the data\n",
    "cluster_centroids_sample = pd.DataFrame(columns=data.columns)\n",
    "for i in range(1, n_clusters_sample+1):\n",
    "    cluster_centroids_sample.loc[i] = data_sample[clusters_sample == i].mean()\n",
    "\n",
    "print(\"Cluster centroids (sample):\")\n",
    "print(cluster_centroids_sample)"
   ]
  },
  {
   "cell_type": "markdown",
   "id": "954c3da4",
   "metadata": {},
   "source": [
    "The cluster centroids (sample) represent the average values of the standardized features within each cluster obtained from the hierarchical clustering analysis. Here is an interpretation of the centroid values:\n",
    "\n",
    "Cluster 1:\n",
    "- Balance: This cluster has a below-average balance.\n",
    "- Qual_miles: The number of qualifying miles in this cluster is relatively low.\n",
    "- Bonus_miles: Customers in this cluster have fewer bonus miles.\n",
    "- Bonus_trans: The number of bonus transactions is below average.\n",
    "- Flight_miles_12mo: Customers in this cluster have a lower number of flight miles in the past 12 months.\n",
    "- Flight_trans_12: The number of flight transactions is below average.\n",
    "- Days_since_enroll: The customers in this cluster have been enrolled for a relatively shorter period.\n",
    "\n",
    "Cluster 2:\n",
    "- Balance: This cluster has an above-average balance.\n",
    "- Qual_miles: The number of qualifying miles in this cluster is higher than average.\n",
    "- Bonus_miles: Customers in this cluster have a higher number of bonus miles.\n",
    "- Bonus_trans: The number of bonus transactions is significantly higher.\n",
    "- Flight_miles_12mo: Customers in this cluster have a significantly higher number of flight miles in the past 12 months.\n",
    "- Flight_trans_12: The number of flight transactions is significantly higher.\n",
    "- Days_since_enroll: The customers in this cluster have been enrolled for a moderate period.\n",
    "\n",
    "Cluster 3:\n",
    "- Balance: This cluster has a higher balance compared to the average.\n",
    "- Qual_miles: The number of qualifying miles in this cluster is relatively high.\n",
    "- Bonus_miles: Customers in this cluster have a higher number of bonus miles.\n",
    "- Bonus_trans: The number of bonus transactions is above average.\n",
    "- Flight_miles_12mo: Customers in this cluster have a moderate number of flight miles in the past 12 months.\n",
    "- Flight_trans_12: The number of flight transactions is above average.\n",
    "- Days_since_enroll: The customers in this cluster have been enrolled for a moderate period.\n"
   ]
  },
  {
   "cell_type": "code",
   "execution_count": 12,
   "id": "bb8a3676",
   "metadata": {},
   "outputs": [
    {
     "data": {
      "image/png": "[encoded data removed]",
      "text/plain": [
       "<Figure size 640x480 with 1 Axes>"
      ]
     },
     "metadata": {},
     "output_type": "display_data"
    }
   ],
   "source": [
    "# K-means clustering\n",
    "from sklearn.cluster import KMeans\n",
    "\n",
    "# Determine the number of clusters using the elbow method\n",
    "wcss = []\n",
    "for i in range(1, 11):\n",
    "    kmeans = KMeans(n_clusters=i, init='k-means++', max_iter=300, n_init=10, random_state=0)\n",
    "    kmeans.fit(data_std)\n",
    "    wcss.append(kmeans.inertia_)\n",
    "plt.plot(range(1, 11), wcss)\n",
    "plt.title('Elbow Method')\n",
    "plt.xlabel('Number of clusters')\n",
    "plt.ylabel('WCSS')\n",
    "plt.show()"
   ]
  },
  {
   "cell_type": "code",
   "execution_count": 13,
   "id": "ed5dbc34",
   "metadata": {},
   "outputs": [
    {
     "name": "stdout",
     "output_type": "stream",
     "text": [
      "Cluster centroids (k-means):\n",
      "    Balance  Qual_miles  Bonus_miles  Bonus_trans  Flight_miles_12mo  \\\n",
      "0  1.172257    0.423248     0.660366     1.744593           3.787346   \n",
      "1 -0.352382   -0.141805    -0.430835    -0.413315          -0.200402   \n",
      "2  0.791433   -0.084819     1.410486     1.010183           0.016354   \n",
      "3 -0.159250   -0.115360    -0.345405    -0.254463          -0.176406   \n",
      "4  0.400998    6.978766     0.084959     0.072507           0.342603   \n",
      "\n",
      "   Flight_trans_12  Days_since_enroll             Cluster Label  \n",
      "0         4.058776           0.265287      High-Value Travelers  \n",
      "1        -0.215838          -0.889000         Occasional Flyers  \n",
      "2         0.024264           0.384829             Bonus Seekers  \n",
      "3        -0.192167           0.825324  Luxury Credit Card Users  \n",
      "4         0.382521          -0.119306         Regular Travelers  \n"
     ]
    }
   ],
   "source": [
    "# Perform k-means clustering with 5 clusters\n",
    "kmeans = KMeans(n_clusters=5, init='k-means++', max_iter=300, n_init=10, random_state=0)\n",
    "kmeans.fit(data_std)\n",
    "clusters_kmeans = kmeans.predict(data_std)\n",
    "\n",
    "# Compare cluster centroids\n",
    "cluster_centroids_kmeans = pd.DataFrame(kmeans.cluster_centers_, columns=data.columns)\n",
    "\n",
    "# Define the desired cluster labels\n",
    "cluster_labels = ['High-Value Travelers', 'Occasional Flyers', 'Bonus Seekers', 'Luxury Credit Card Users', 'Regular Travelers']\n",
    "\n",
    "# Add the 'Cluster Label' column to cluster_centroids_kmeans\n",
    "cluster_centroids_kmeans['Cluster Label'] = cluster_labels\n",
    "\n",
    "print(\"Cluster centroids (k-means):\")\n",
    "print(cluster_centroids_kmeans)"
   ]
  },
  {
   "cell_type": "code",
   "execution_count": 14,
   "id": "cd9f6848",
   "metadata": {},
   "outputs": [
    {
     "name": "stdout",
     "output_type": "stream",
     "text": [
      "Cluster centroids (hierarchical clustering):\n",
      "    Balance  Qual_miles  Bonus_miles  Bonus_trans  Flight_miles_12mo  \\\n",
      "1  0.612417    7.401080    -0.030593     0.108700           0.367599   \n",
      "2  0.806041    0.448001     0.620769     2.277200           5.922377   \n",
      "3  1.297088    0.000771     0.791694     0.853919           1.304565   \n",
      "4  0.062601   -0.026393     0.397098     0.544635          -0.222383   \n",
      "5 -0.359693   -0.185135    -0.558691    -0.765880          -0.230369   \n",
      "\n",
      "   Flight_trans_12  Days_since_enroll Cluster Label  \n",
      "1         0.500172           0.097725     Cluster 1  \n",
      "2         5.880474          -0.034733     Cluster 2  \n",
      "3         1.415926           0.302934     Cluster 3  \n",
      "4        -0.234632           0.294852     Cluster 4  \n",
      "5        -0.243115          -0.346510     Cluster 5  \n",
      "Cluster centroids (k-means):\n",
      "    Balance  Qual_miles  Bonus_miles  Bonus_trans  Flight_miles_12mo  \\\n",
      "0  1.172257    0.423248     0.660366     1.744593           3.787346   \n",
      "1 -0.352382   -0.141805    -0.430835    -0.413315          -0.200402   \n",
      "2  0.791433   -0.084819     1.410486     1.010183           0.016354   \n",
      "3 -0.159250   -0.115360    -0.345405    -0.254463          -0.176406   \n",
      "4  0.400998    6.978766     0.084959     0.072507           0.342603   \n",
      "\n",
      "   Flight_trans_12  Days_since_enroll Cluster Label  \n",
      "0         4.058776           0.265287     Cluster 1  \n",
      "1        -0.215838          -0.889000     Cluster 2  \n",
      "2         0.024264           0.384829     Cluster 3  \n",
      "3        -0.192167           0.825324     Cluster 4  \n",
      "4         0.382521          -0.119306     Cluster 5  \n",
      "Cluster characteristics (hierarchical clustering):\n",
      "  Cluster Label\n",
      "1     Cluster 1\n",
      "2     Cluster 2\n",
      "3     Cluster 3\n",
      "4     Cluster 4\n",
      "5     Cluster 5\n",
      "Cluster characteristics (k-means clustering):\n",
      "  Cluster Label\n",
      "0     Cluster 1\n",
      "1     Cluster 2\n",
      "2     Cluster 3\n",
      "3     Cluster 4\n",
      "4     Cluster 5\n"
     ]
    }
   ],
   "source": [
    "cluster_centroids_hierarchical = pd.DataFrame(columns=data.columns)\n",
    "for i in range(1, 6):\n",
    "    cluster_centroids_hierarchical.loc[i] = data_std[fcluster(Z, 5, criterion='maxclust') == i].mean()\n",
    "\n",
    "if len(cluster_centroids_hierarchical) != 5:\n",
    "    cluster_labels = [f'Cluster {i}' for i in range(1, 6)]\n",
    "else:\n",
    "    cluster_labels = [f'Cluster {i}' for i in range(1, 6)]\n",
    "    \n",
    "cluster_centroids_hierarchical['Cluster Label'] = cluster_labels\n",
    "\n",
    "print(\"Cluster centroids (hierarchical clustering):\")\n",
    "print(cluster_centroids_hierarchical)\n",
    "\n",
    "cluster_centroids_kmeans = pd.DataFrame(kmeans.cluster_centers_, columns=data.columns)\n",
    "cluster_centroids_kmeans['Cluster Label'] = cluster_labels\n",
    "\n",
    "print(\"Cluster centroids (k-means):\")\n",
    "print(cluster_centroids_kmeans)\n",
    "\n",
    "# Compare the characteristics of the clusters obtained from hierarchical clustering and k-means clustering\n",
    "print(\"Cluster characteristics (hierarchical clustering):\")\n",
    "print(cluster_centroids_hierarchical[['Cluster Label']])\n",
    "print(\"Cluster characteristics (k-means clustering):\")\n",
    "print(cluster_centroids_kmeans[['Cluster Label']])"
   ]
  },
  {
   "cell_type": "code",
   "execution_count": 15,
   "id": "d1b5cf4d",
   "metadata": {},
   "outputs": [
    {
     "name": "stdout",
     "output_type": "stream",
     "text": [
      "WCSS (k-means clustering): 13511.22223827517\n",
      "TSS (k-means clustering): Balance              3998.0\n",
      "Qual_miles           3998.0\n",
      "Bonus_miles          3998.0\n",
      "Bonus_trans          3998.0\n",
      "Flight_miles_12mo    3998.0\n",
      "Flight_trans_12      3998.0\n",
      "Days_since_enroll    3998.0\n",
      "dtype: float64\n",
      "BCSS (k-means clustering): Balance             -9513.222238\n",
      "Qual_miles          -9513.222238\n",
      "Bonus_miles         -9513.222238\n",
      "Bonus_trans         -9513.222238\n",
      "Flight_miles_12mo   -9513.222238\n",
      "Flight_trans_12     -9513.222238\n",
      "Days_since_enroll   -9513.222238\n",
      "dtype: float64\n"
     ]
    }
   ],
   "source": [
    "# Calculate WCSS, TSS, and BCSS for k-means clustering\n",
    "wcss_kmeans = kmeans.inertia_\n",
    "tss_kmeans = np.sum((data_std - data_std.mean())**2)\n",
    "bcss_kmeans = tss_kmeans - wcss_kmeans\n",
    "\n",
    "print(\"WCSS (k-means clustering):\", wcss_kmeans)\n",
    "print(\"TSS (k-means clustering):\", tss_kmeans)\n",
    "print(\"BCSS (k-means clustering):\", bcss_kmeans)"
   ]
  },
  {
   "cell_type": "code",
   "execution_count": 16,
   "id": "86a245c0",
   "metadata": {},
   "outputs": [
    {
     "name": "stdout",
     "output_type": "stream",
     "text": [
      "Cluster characteristics (hierarchical clustering):\n",
      "              Cluster Label\n",
      "1      High-Value Travelers\n",
      "2         Occasional Flyers\n",
      "3             Bonus Seekers\n",
      "4  Luxury Credit Card Users\n",
      "Cluster characteristics (k-means clustering):\n",
      "  Cluster Label\n",
      "0     Cluster 1\n",
      "1     Cluster 2\n",
      "2     Cluster 3\n",
      "3     Cluster 4\n",
      "4     Cluster 5\n",
      "\n",
      "Target clusters: [1, 2, 3, 4, 5]\n",
      "\n",
      "Cluster 1 : Cluster 1\n",
      "Offer: Exclusive benefits for High-Value Travelers\n",
      "\n",
      "Cluster 2 : Cluster 2\n",
      "Offer: Special discounts and promotions for Occasional Flyers\n",
      "\n",
      "Cluster 3 : Cluster 3\n",
      "Offer: Bonus miles and rewards for Bonus Seekers\n",
      "\n",
      "Cluster 4 : Cluster 4\n",
      "Offer: Luxury perks and privileges for Luxury Credit Card Users\n",
      "\n",
      "Cluster 5 : Cluster 5\n",
      "Offer: Tailored rewards and personalized offers for Regular Travelers\n"
     ]
    }
   ],
   "source": [
    "# Compare the characteristics of the clusters obtained from hierarchical clustering and k-means clustering\n",
    "print(\"Cluster characteristics (hierarchical clustering):\")\n",
    "print(cluster_centroids[['Cluster Label']])\n",
    "print(\"Cluster characteristics (k-means clustering):\")\n",
    "print(cluster_centroids_kmeans[['Cluster Label']])\n",
    "\n",
    "# Targeting clusters for offers\n",
    "target_clusters = [1, 2, 3, 4, 5]\n",
    "print(\"\\nTarget clusters:\", target_clusters)\n",
    "for cluster in target_clusters:\n",
    "    print(\"\\nCluster\", cluster, \":\", cluster_labels[cluster-1])\n",
    "    if cluster == 1:\n",
    "        print(\"Offer: Exclusive benefits for High-Value Travelers\")\n",
    "    elif cluster == 2:\n",
    "        print(\"Offer: Special discounts and promotions for Occasional Flyers\")\n",
    "    elif cluster == 3:\n",
    "        print(\"Offer: Bonus miles and rewards for Bonus Seekers\")\n",
    "    elif cluster == 4:\n",
    "        print(\"Offer: Luxury perks and privileges for Luxury Credit Card Users\")\n",
    "    elif cluster == 5:\n",
    "        print(\"Offer: Tailored rewards and personalized offers for Regular Travelers\")"
   ]
  }
 ],
 "metadata": {
  "kernelspec": {
   "display_name": "Python 3 (ipykernel)",
   "language": "python",
   "name": "python3"
  },
  "language_info": {
   "codemirror_mode": {
    "name": "ipython",
    "version": 3
   },
   "file_extension": ".py",
   "mimetype": "text/x-python",
   "name": "python",
   "nbconvert_exporter": "python",
   "pygments_lexer": "ipython3",
   "version": "3.11.1"
  }
 },
 "nbformat": 4,
 "nbformat_minor": 5
}
