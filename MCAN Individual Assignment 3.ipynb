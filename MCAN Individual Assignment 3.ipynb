{
 "cells": [
  {
   "cell_type": "markdown",
   "id": "4d32c6a6-ee1b-4ee2-b626-ca4092bc92f4",
   "metadata": {},
   "source": [
    "## Q 1"
   ]
  },
  {
   "cell_type": "markdown",
   "id": "54394659-8539-4459-adcb-8f2164bb06f9",
   "metadata": {},
   "source": [
    "### Part A"
   ]
  },
  {
   "cell_type": "code",
   "execution_count": 1,
   "id": "33560bc5-812e-4d20-9d3a-fd0a98c4effb",
   "metadata": {},
   "outputs": [
    {
     "data": {
      "text/plain": [
       "{'kw8322228': array([7.40912018e+01, 3.94487110e-02]),\n",
       " 'kw8322392': array([1.56440013e+02, 1.50082487e-01]),\n",
       " 'kw8322393': array([1.04799344e+02, 7.97165197e-02]),\n",
       " 'kw8322445': array([188.11195908,   0.43228912])}"
      ]
     },
     "execution_count": 1,
     "metadata": {},
     "output_type": "execute_result"
    }
   ],
   "source": [
    "import pandas as pd\n",
    "from scipy.optimize import curve_fit\n",
    "import numpy as np\n",
    "\n",
    "# Define the nonlinear model function\n",
    "def nonlinear_regression_model(bid_value, alpha, beta):\n",
    "    return alpha * (1 - np.exp(-beta * bid_value))\n",
    "\n",
    "alpha_beta_estimates = {}\n",
    "keywords = ['kw8322228', 'kw8322392', 'kw8322393', 'kw8322445']\n",
    "file_paths = {\n",
    "    'kw8322228': r'C:\\Users\\Rohit Srivastava\\OneDrive\\Desktop\\ISB\\Sixth Term\\Assignments\\MA\\Individual Assignments\\3\\clicksdata.kw8322228.csv',\n",
    "    'kw8322392': r'C:\\Users\\Rohit Srivastava\\OneDrive\\Desktop\\ISB\\Sixth Term\\Assignments\\MA\\Individual Assignments\\3\\clicksdata.kw8322392.csv',\n",
    "    'kw8322393': r'C:\\Users\\Rohit Srivastava\\OneDrive\\Desktop\\ISB\\Sixth Term\\Assignments\\MA\\Individual Assignments\\3\\clicksdata.kw8322393.csv',\n",
    "    'kw8322445': r'C:\\Users\\Rohit Srivastava\\OneDrive\\Desktop\\ISB\\Sixth Term\\Assignments\\MA\\Individual Assignments\\3\\clicksdata.kw8322445.csv'\n",
    "}\n",
    "\n",
    "for keyword in keywords:\n",
    "    file_path = file_paths[keyword]  \n",
    "    data = pd.read_csv(file_path)\n",
    "    popt, _ = curve_fit(nonlinear_regression_model, data['bid.value'], data['n.clicks'], p0=[150, 0.5])\n",
    "    alpha_beta_estimates[keyword] = popt\n",
    "\n",
    "alpha_beta_estimates"
   ]
  },
  {
   "cell_type": "markdown",
   "id": "16c361f2-1fe4-424e-beae-83aa3a50201e",
   "metadata": {},
   "source": [
    "### Part B"
   ]
  },
  {
   "cell_type": "code",
   "execution_count": 2,
   "id": "48db368d-2545-483e-8f9f-6480f902fcf9",
   "metadata": {},
   "outputs": [
    {
     "data": {
      "text/plain": [
       "{'kw8322228': 34.1277168882183,\n",
       " 'kw8322392': 13.56346467586668,\n",
       " 'kw8322393': 22.433879101644955,\n",
       " 'kw8322445': 5.81697735455261}"
      ]
     },
     "execution_count": 2,
     "metadata": {},
     "output_type": "execute_result"
    }
   ],
   "source": [
    "from scipy.optimize import minimize\n",
    "\n",
    "# LTV and Conversion Rate values for each keyword\n",
    "ltv_conv = {\n",
    "    'kw8322228': {'ltv': 354, 'conv_rate': 0.3},\n",
    "    'kw8322392': {'ltv': 181, 'conv_rate': 0.32},\n",
    "    'kw8322393': {'ltv': 283, 'conv_rate': 0.3},\n",
    "    'kw8322445': {'ltv': 107, 'conv_rate': 0.3}\n",
    "}\n",
    "\n",
    "# Function to calculate profit\n",
    "def calculate_profit(bid, alpha, beta, ltv, conv_rate):\n",
    "    clicks = alpha * (1 - np.exp(-beta * bid))\n",
    "    return -(clicks * conv_rate * ltv - clicks * bid)  # Negative for minimization\n",
    "\n",
    "# Optimal bids\n",
    "optimal_bids = {}\n",
    "\n",
    "for keyword, params in alpha_beta_estimates.items():\n",
    "    alpha, beta = params\n",
    "    ltv = ltv_conv[keyword]['ltv']\n",
    "    conv_rate = ltv_conv[keyword]['conv_rate']\n",
    "    result = minimize(calculate_profit, x0=1, args=(alpha, beta, ltv, conv_rate), bounds=[(0, None)])\n",
    "    optimal_bids[keyword] = result.x[0]\n",
    "\n",
    "#Print optimal bids\n",
    "optimal_bids"
   ]
  },
  {
   "cell_type": "markdown",
   "id": "3a4f0cc8-12e2-4c29-a344-2ed856507d6c",
   "metadata": {},
   "source": [
    "### Part C"
   ]
  },
  {
   "cell_type": "code",
   "execution_count": 3,
   "id": "799d0456-ebb4-4bc8-85f9-c4a204eaa1f4",
   "metadata": {},
   "outputs": [
    {
     "data": {
      "text/plain": [
       "array([34.12778543, 13.56349459, 22.43389095,  5.81697001])"
      ]
     },
     "execution_count": 3,
     "metadata": {},
     "output_type": "execute_result"
    }
   ],
   "source": [
    "from scipy.optimize import minimize\n",
    "\n",
    "# Objective function for total profit considering all keywords\n",
    "def total_profit(bids):\n",
    "    total_profit = 0\n",
    "    for i, keyword in enumerate(keywords):\n",
    "        alpha, beta = alpha_beta_estimates[keyword]\n",
    "        ltv = ltv_conv[keyword]['ltv']\n",
    "        conv_rate = ltv_conv[keyword]['conv_rate']\n",
    "        bid = bids[i]\n",
    "        clicks = alpha * (1 - np.exp(-beta * bid))\n",
    "        total_profit += clicks * conv_rate * ltv - clicks * bid\n",
    "    return -total_profit  # Negative for maximization\n",
    "\n",
    "# Budget constraint\n",
    "def budget_constraint(bids):\n",
    "    total_budget = 3000\n",
    "    total_expenditure = sum(bids)\n",
    "    return total_budget - total_expenditure\n",
    "\n",
    "# Constraint dictionary\n",
    "cons = ({'type': 'ineq', 'fun': budget_constraint})\n",
    "\n",
    "# Initial bid guesses\n",
    "initial_bids = [10, 10, 10, 10]  \n",
    "\n",
    "# Perform the constrained optimization\n",
    "budget_constrained_result = minimize(total_profit, x0=initial_bids, constraints=cons, bounds=[(0, None)] * 4)\n",
    "\n",
    "budget_constrained_result.x  # Optimal bids under budget constraint"
   ]
  },
  {
   "cell_type": "markdown",
   "id": "64903290-783c-4315-bf75-0dc333e2c6a9",
   "metadata": {},
   "source": [
    "## Q 2"
   ]
  },
  {
   "cell_type": "code",
   "execution_count": 4,
   "id": "7e21e515-5c7a-4d64-95ec-a69252b43460",
   "metadata": {},
   "outputs": [],
   "source": [
    "import pandas as pd\n",
    "from scipy.stats import beta\n",
    "import numpy as np\n",
    "\n",
    "# Load clicks data\n",
    "data = pd.read_excel(r'C:\\Users\\Rohit Srivastava\\OneDrive\\Desktop\\ISB\\Sixth Term\\Assignments\\MA\\Individual Assignments\\3\\clicks.dataset.2.xlsx')"
   ]
  },
  {
   "cell_type": "code",
   "execution_count": 5,
   "id": "a4e00f86-8d54-47f9-93cb-fa7ca778a3e0",
   "metadata": {},
   "outputs": [
    {
     "data": {
      "text/html": [
       "<div>\n",
       "<style scoped>\n",
       "    .dataframe tbody tr th:only-of-type {\n",
       "        vertical-align: middle;\n",
       "    }\n",
       "\n",
       "    .dataframe tbody tr th {\n",
       "        vertical-align: top;\n",
       "    }\n",
       "\n",
       "    .dataframe thead th {\n",
       "        text-align: right;\n",
       "    }\n",
       "</style>\n",
       "<table border=\"1\" class=\"dataframe\">\n",
       "  <thead>\n",
       "    <tr style=\"text-align: right;\">\n",
       "      <th></th>\n",
       "      <th>ad</th>\n",
       "      <th>1</th>\n",
       "      <th>2</th>\n",
       "      <th>3</th>\n",
       "      <th>4</th>\n",
       "      <th>5</th>\n",
       "    </tr>\n",
       "  </thead>\n",
       "  <tbody>\n",
       "    <tr>\n",
       "      <th>0</th>\n",
       "      <td>clicks</td>\n",
       "      <td>52</td>\n",
       "      <td>38</td>\n",
       "      <td>51</td>\n",
       "      <td>45</td>\n",
       "      <td>25</td>\n",
       "    </tr>\n",
       "    <tr>\n",
       "      <th>1</th>\n",
       "      <td>exposures</td>\n",
       "      <td>1000</td>\n",
       "      <td>1000</td>\n",
       "      <td>1000</td>\n",
       "      <td>1000</td>\n",
       "      <td>1000</td>\n",
       "    </tr>\n",
       "  </tbody>\n",
       "</table>\n",
       "</div>"
      ],
      "text/plain": [
       "          ad     1     2     3     4     5\n",
       "0     clicks    52    38    51    45    25\n",
       "1  exposures  1000  1000  1000  1000  1000"
      ]
     },
     "execution_count": 5,
     "metadata": {},
     "output_type": "execute_result"
    }
   ],
   "source": [
    "data"
   ]
  },
  {
   "cell_type": "code",
   "execution_count": 6,
   "id": "dab2146e-5f6a-4464-8035-a32b0ae1199d",
   "metadata": {},
   "outputs": [],
   "source": [
    "clicks_data = pd.DataFrame(data)\n",
    "\n",
    "# Transposing the DataFrame to get campaigns as rows\n",
    "clicks_data = clicks_data.set_index('ad').T\n",
    "\n",
    "# Now calculating the posterior parameters for CTR\n",
    "clicks_data['alpha'] = clicks_data['clicks'] + 1\n",
    "clicks_data['beta'] = clicks_data['exposures'] - clicks_data['clicks'] + 1"
   ]
  },
  {
   "cell_type": "code",
   "execution_count": 8,
   "id": "d80ec623-fd05-44be-9baf-05c42a275a1e",
   "metadata": {},
   "outputs": [],
   "source": [
    "# Number of simulations\n",
    "n_simulations = 100000\n",
    "\n",
    "# Simulate draws and calculate the highest CTR probability\n",
    "highest_ctr_prob = np.zeros(len(clicks_data))\n",
    "for i in range(n_simulations):\n",
    "    draws = beta.rvs(a=clicks_data['alpha'], b=clicks_data['beta'])\n",
    "    highest_ctr_prob[np.argmax(draws)] += 1\n",
    "\n",
    "highest_ctr_prob /= n_simulations"
   ]
  },
  {
   "cell_type": "code",
   "execution_count": 9,
   "id": "4bae9585-9051-4017-98ff-60394b3db54a",
   "metadata": {},
   "outputs": [
    {
     "data": {
      "text/plain": [
       "array([4.7157e-01, 1.6920e-02, 3.9359e-01, 1.1790e-01, 2.0000e-05])"
      ]
     },
     "execution_count": 9,
     "metadata": {},
     "output_type": "execute_result"
    }
   ],
   "source": [
    "highest_ctr_prob"
   ]
  },
  {
   "cell_type": "code",
   "execution_count": 10,
   "id": "eda5cbcf-9572-49e8-bc3a-c195fc4f7249",
   "metadata": {},
   "outputs": [
    {
     "data": {
      "text/plain": [
       "100000"
      ]
     },
     "execution_count": 10,
     "metadata": {},
     "output_type": "execute_result"
    }
   ],
   "source": [
    "n_simulations"
   ]
  },
  {
   "cell_type": "code",
   "execution_count": 11,
   "id": "98ea57fd-fe5b-4fe6-9234-d9e041e35290",
   "metadata": {},
   "outputs": [
    {
     "data": {
      "text/html": [
       "<div>\n",
       "<style scoped>\n",
       "    .dataframe tbody tr th:only-of-type {\n",
       "        vertical-align: middle;\n",
       "    }\n",
       "\n",
       "    .dataframe tbody tr th {\n",
       "        vertical-align: top;\n",
       "    }\n",
       "\n",
       "    .dataframe thead th {\n",
       "        text-align: right;\n",
       "    }\n",
       "</style>\n",
       "<table border=\"1\" class=\"dataframe\">\n",
       "  <thead>\n",
       "    <tr style=\"text-align: right;\">\n",
       "      <th></th>\n",
       "      <th>cust</th>\n",
       "      <th>ad</th>\n",
       "      <th>volume</th>\n",
       "    </tr>\n",
       "  </thead>\n",
       "  <tbody>\n",
       "    <tr>\n",
       "      <th>0</th>\n",
       "      <td>1</td>\n",
       "      <td>1</td>\n",
       "      <td>32</td>\n",
       "    </tr>\n",
       "    <tr>\n",
       "      <th>1</th>\n",
       "      <td>2</td>\n",
       "      <td>1</td>\n",
       "      <td>54</td>\n",
       "    </tr>\n",
       "    <tr>\n",
       "      <th>2</th>\n",
       "      <td>3</td>\n",
       "      <td>1</td>\n",
       "      <td>31</td>\n",
       "    </tr>\n",
       "    <tr>\n",
       "      <th>3</th>\n",
       "      <td>4</td>\n",
       "      <td>1</td>\n",
       "      <td>24</td>\n",
       "    </tr>\n",
       "    <tr>\n",
       "      <th>4</th>\n",
       "      <td>5</td>\n",
       "      <td>1</td>\n",
       "      <td>42</td>\n",
       "    </tr>\n",
       "    <tr>\n",
       "      <th>...</th>\n",
       "      <td>...</td>\n",
       "      <td>...</td>\n",
       "      <td>...</td>\n",
       "    </tr>\n",
       "    <tr>\n",
       "      <th>206</th>\n",
       "      <td>207</td>\n",
       "      <td>5</td>\n",
       "      <td>47</td>\n",
       "    </tr>\n",
       "    <tr>\n",
       "      <th>207</th>\n",
       "      <td>208</td>\n",
       "      <td>5</td>\n",
       "      <td>61</td>\n",
       "    </tr>\n",
       "    <tr>\n",
       "      <th>208</th>\n",
       "      <td>209</td>\n",
       "      <td>5</td>\n",
       "      <td>63</td>\n",
       "    </tr>\n",
       "    <tr>\n",
       "      <th>209</th>\n",
       "      <td>210</td>\n",
       "      <td>5</td>\n",
       "      <td>102</td>\n",
       "    </tr>\n",
       "    <tr>\n",
       "      <th>210</th>\n",
       "      <td>211</td>\n",
       "      <td>5</td>\n",
       "      <td>104</td>\n",
       "    </tr>\n",
       "  </tbody>\n",
       "</table>\n",
       "<p>211 rows × 3 columns</p>\n",
       "</div>"
      ],
      "text/plain": [
       "     cust  ad  volume\n",
       "0       1   1      32\n",
       "1       2   1      54\n",
       "2       3   1      31\n",
       "3       4   1      24\n",
       "4       5   1      42\n",
       "..    ...  ..     ...\n",
       "206   207   5      47\n",
       "207   208   5      61\n",
       "208   209   5      63\n",
       "209   210   5     102\n",
       "210   211   5     104\n",
       "\n",
       "[211 rows x 3 columns]"
      ]
     },
     "execution_count": 11,
     "metadata": {},
     "output_type": "execute_result"
    }
   ],
   "source": [
    "import pandas as pd\n",
    "from scipy.stats import t\n",
    "import numpy as np\n",
    "\n",
    "# Load volumes data\n",
    "volumes_data = pd.read_excel(r'C:\\Users\\Rohit Srivastava\\OneDrive\\Desktop\\ISB\\Sixth Term\\Assignments\\MA\\Individual Assignments\\3\\volumes.dataset.2.xlsx')\n",
    "\n",
    "volumes_data"
   ]
  },
  {
   "cell_type": "code",
   "execution_count": 12,
   "id": "8159f29a-773b-42e3-9ae6-bfa7d880f848",
   "metadata": {},
   "outputs": [],
   "source": [
    "from scipy.stats import t, beta\n",
    "import numpy as np\n",
    "\n",
    "# Group by ad campaign and calculate statistics\n",
    "grouped = volumes_data.groupby('ad')['volume']\n",
    "means = grouped.mean()\n",
    "std_errs = grouped.sem()\n",
    "dfs = grouped.count() - 1\n",
    "\n",
    "# Number of simulations\n",
    "n_simulations = 100000"
   ]
  },
  {
   "cell_type": "code",
   "execution_count": 13,
   "id": "a8ab85ec-6760-455f-aeac-7f718ca987ee",
   "metadata": {},
   "outputs": [
    {
     "data": {
      "text/plain": [
       "ad\n",
       "1    42.076923\n",
       "2    57.289474\n",
       "3    41.803922\n",
       "4    47.888889\n",
       "5    90.640000\n",
       "Name: volume, dtype: float64"
      ]
     },
     "execution_count": 13,
     "metadata": {},
     "output_type": "execute_result"
    }
   ],
   "source": [
    "means"
   ]
  },
  {
   "cell_type": "code",
   "execution_count": 14,
   "id": "52893bde-9945-4648-a05c-10d28d55896e",
   "metadata": {},
   "outputs": [
    {
     "data": {
      "text/plain": [
       "ad\n",
       "1    1.391324\n",
       "2    2.822110\n",
       "3    1.945134\n",
       "4    2.017655\n",
       "5    6.137285\n",
       "Name: volume, dtype: float64"
      ]
     },
     "execution_count": 14,
     "metadata": {},
     "output_type": "execute_result"
    }
   ],
   "source": [
    "std_errs"
   ]
  },
  {
   "cell_type": "code",
   "execution_count": 15,
   "id": "64225631-8241-412b-93a0-a68e8b7f95a3",
   "metadata": {},
   "outputs": [
    {
     "data": {
      "text/plain": [
       "ad\n",
       "1    51\n",
       "2    37\n",
       "3    50\n",
       "4    44\n",
       "5    24\n",
       "Name: volume, dtype: int64"
      ]
     },
     "execution_count": 15,
     "metadata": {},
     "output_type": "execute_result"
    }
   ],
   "source": [
    "dfs"
   ]
  },
  {
   "cell_type": "code",
   "execution_count": 16,
   "id": "0c949755-34ec-41e3-a819-6115bb68893a",
   "metadata": {},
   "outputs": [],
   "source": [
    "# Task 2: Calculate the highest average post-click volume probability\n",
    "highest_volume_prob = np.zeros(len(means))\n",
    "for i in range(n_simulations):\n",
    "    draws = t.rvs(df=dfs, loc=means, scale=std_errs)\n",
    "    highest_volume_prob[np.argmax(draws)] += 1\n",
    "highest_volume_prob /= n_simulations"
   ]
  },
  {
   "cell_type": "code",
   "execution_count": 17,
   "id": "f5998eb1-fc90-4d4c-9a0f-3a9d650f324e",
   "metadata": {},
   "outputs": [
    {
     "data": {
      "text/plain": [
       "array([0.0000e+00, 1.0000e-05, 0.0000e+00, 0.0000e+00, 9.9999e-01])"
      ]
     },
     "execution_count": 17,
     "metadata": {},
     "output_type": "execute_result"
    }
   ],
   "source": [
    "highest_volume_prob"
   ]
  },
  {
   "cell_type": "code",
   "execution_count": 18,
   "id": "799841a4-72d1-45dd-ab82-1f2b1c3ef1b4",
   "metadata": {},
   "outputs": [],
   "source": [
    "# Number of simulations\n",
    "n_simulations = 100000"
   ]
  },
  {
   "cell_type": "code",
   "execution_count": 20,
   "id": "0a3c9eae-02f7-47cb-9f70-fea3151a537b",
   "metadata": {},
   "outputs": [],
   "source": [
    "# Initialize array for highest EVI probability\n",
    "highest_evi_prob = np.zeros(len(clicks_data))\n",
    "\n",
    "# Calculate the highest EVI probability\n",
    "for i in range(n_simulations):\n",
    "    # Draw from CTR and post-click volume distributions\n",
    "    ctr_draws = beta.rvs(a=clicks_data['alpha'], b=clicks_data['beta'])\n",
    "    volume_draws = t.rvs(df=dfs, loc=means, scale=std_errs)\n",
    "    \n",
    "    # Calculate EVI for each campaign\n",
    "    evi_draws = ctr_draws * volume_draws\n",
    "    \n",
    "    # Determine which campaign has the highest EVI in this draw\n",
    "    highest_evi_prob[np.argmax(evi_draws)] += 1\n",
    "\n",
    "# Normalize to get probabilities\n",
    "highest_evi_prob /= n_simulations"
   ]
  },
  {
   "cell_type": "code",
   "execution_count": 21,
   "id": "08c2af4b-eb7c-49c1-ac17-b726c5a85458",
   "metadata": {},
   "outputs": [
    {
     "data": {
      "text/plain": [
       "array([0.16753, 0.19762, 0.13133, 0.16117, 0.34235])"
      ]
     },
     "execution_count": 21,
     "metadata": {},
     "output_type": "execute_result"
    }
   ],
   "source": [
    "highest_evi_prob"
   ]
  },
  {
   "cell_type": "markdown",
   "id": "1ad301f2-8192-41ee-9e9c-d1647356cdf8",
   "metadata": {},
   "source": [
    "## Graphics for report"
   ]
  },
  {
   "cell_type": "code",
   "execution_count": 22,
   "id": "805c6dc9-7bc7-4d7b-a2ce-aa6f345e2773",
   "metadata": {},
   "outputs": [
    {
     "data": {
      "image/png": "[encoded data removed]",
      "text/plain": [
       "<Figure size 1000x600 with 1 Axes>"
      ]
     },
     "metadata": {},
     "output_type": "display_data"
    }
   ],
   "source": [
    "import matplotlib.pyplot as plt\n",
    "\n",
    "# dictionary with LTV values for each keyword\n",
    "ltv_values = {'kw8322228': 354, 'kw8322392': 181, 'kw8322393': 283, 'kw8322445': 107}\n",
    "\n",
    "# Alpha values from the analysis\n",
    "alpha_values = {'kw8322228': 74.09, 'kw8322392': 156.44, 'kw8322393': 104.79, 'kw8322445': 188.11}\n",
    "\n",
    "# Creating lists of LTV and alpha values\n",
    "ltvs = [ltv_values[key] for key in ltv_values]\n",
    "alphas = [alpha_values[key] for key in alpha_values]\n",
    "\n",
    "# Creating the scatter plot\n",
    "plt.figure(figsize=(10, 6))\n",
    "plt.scatter(ltvs, alphas, color='blue')\n",
    "plt.title('LTV vs Alpha')\n",
    "plt.xlabel('LTV')\n",
    "plt.ylabel('Alpha')\n",
    "plt.grid(True)\n",
    "plt.show()"
   ]
  },
  {
   "cell_type": "code",
   "execution_count": 23,
   "id": "1cacf663-fe01-457e-a36f-daa47eb3c41f",
   "metadata": {},
   "outputs": [
    {
     "data": {
      "image/png": "[encoded data removed]",
      "text/plain": [
       "<Figure size 1000x600 with 1 Axes>"
      ]
     },
     "metadata": {},
     "output_type": "display_data"
    }
   ],
   "source": [
    "# Beta values from the analysis\n",
    "beta_values = {'kw8322228': 0.0394, 'kw8322392': 0.1501, 'kw8322393': 0.0797, 'kw8322445': 0.4323}\n",
    "\n",
    "# Creating a list of beta values\n",
    "betas = [beta_values[key] for key in beta_values]\n",
    "\n",
    "# Creating the scatter plot\n",
    "plt.figure(figsize=(10, 6))\n",
    "plt.scatter(ltvs, betas, color='red')\n",
    "plt.title('LTV vs Beta')\n",
    "plt.xlabel('LTV')\n",
    "plt.ylabel('Beta')\n",
    "plt.grid(True)\n",
    "plt.show()"
   ]
  },
  {
   "cell_type": "code",
   "execution_count": 24,
   "id": "f14edb02-73b5-46c2-8419-d69887a45941",
   "metadata": {},
   "outputs": [
    {
     "data": {
      "image/png": "[encoded data removed]",
      "text/plain": [
       "<Figure size 1000x600 with 1 Axes>"
      ]
     },
     "metadata": {},
     "output_type": "display_data"
    }
   ],
   "source": [
    "# Optimal bid values from our analysis\n",
    "optimal_bids = {'kw8322228': 34.13, 'kw8322392': 13.56, 'kw8322393': 22.43, 'kw8322445': 5.82}\n",
    "\n",
    "# Creating a list of optimal bid values\n",
    "bids = [optimal_bids[key] for key in optimal_bids]\n",
    "\n",
    "# Creating the scatter plot\n",
    "plt.figure(figsize=(10, 6))\n",
    "plt.scatter(ltvs, bids, color='green')\n",
    "plt.title('LTV vs Optimal Bid')\n",
    "plt.xlabel('LTV')\n",
    "plt.ylabel('Optimal Bid')\n",
    "plt.grid(True)\n",
    "plt.show()"
   ]
  }
 ],
 "metadata": {
  "kernelspec": {
   "display_name": "Python 3 (ipykernel)",
   "language": "python",
   "name": "python3"
  },
  "language_info": {
   "codemirror_mode": {
    "name": "ipython",
    "version": 3
   },
   "file_extension": ".py",
   "mimetype": "text/x-python",
   "name": "python",
   "nbconvert_exporter": "python",
   "pygments_lexer": "ipython3",
   "version": "3.12.1"
  }
 },
 "nbformat": 4,
 "nbformat_minor": 5
}
