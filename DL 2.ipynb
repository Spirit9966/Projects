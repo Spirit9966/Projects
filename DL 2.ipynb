{
 "cells": [
  {
   "cell_type": "code",
   "execution_count": 1,
   "id": "2bc6b3fe",
   "metadata": {},
   "outputs": [],
   "source": [
    "import pandas as pd\n",
    "import numpy as np\n",
    "import tensorflow as tf\n",
    "from tensorflow.keras.preprocessing.text import Tokenizer\n",
    "from tensorflow.keras.preprocessing.sequence import pad_sequences\n",
    "from sklearn.model_selection import train_test_split\n",
    "from tensorflow.keras.models import Model, Sequential\n",
    "from tensorflow.keras.layers import Embedding, LSTM, Dense, Attention, Input, SimpleRNN, TimeDistributed\n",
    "import seaborn as sns\n",
    "import matplotlib.pyplot as plt"
   ]
  },
  {
   "cell_type": "code",
   "execution_count": 2,
   "id": "94d80733",
   "metadata": {},
   "outputs": [],
   "source": [
    "# Load the dataset\n",
    "file_path = r'C:\\Users\\Rohit Srivastava\\OneDrive\\Desktop\\DL dataset\\2\\SPAM text message 20170820 - Data.csv'\n",
    "spam_data = pd.read_csv(file_path)"
   ]
  },
  {
   "cell_type": "code",
   "execution_count": 3,
   "id": "54a54280",
   "metadata": {},
   "outputs": [
    {
     "data": {
      "text/html": [
       "<div>\n",
       "<style scoped>\n",
       "    .dataframe tbody tr th:only-of-type {\n",
       "        vertical-align: middle;\n",
       "    }\n",
       "\n",
       "    .dataframe tbody tr th {\n",
       "        vertical-align: top;\n",
       "    }\n",
       "\n",
       "    .dataframe thead th {\n",
       "        text-align: right;\n",
       "    }\n",
       "</style>\n",
       "<table border=\"1\" class=\"dataframe\">\n",
       "  <thead>\n",
       "    <tr style=\"text-align: right;\">\n",
       "      <th></th>\n",
       "      <th>Category</th>\n",
       "      <th>Message</th>\n",
       "    </tr>\n",
       "  </thead>\n",
       "  <tbody>\n",
       "    <tr>\n",
       "      <th>0</th>\n",
       "      <td>ham</td>\n",
       "      <td>Go until jurong point, crazy.. Available only ...</td>\n",
       "    </tr>\n",
       "    <tr>\n",
       "      <th>1</th>\n",
       "      <td>ham</td>\n",
       "      <td>Ok lar... Joking wif u oni...</td>\n",
       "    </tr>\n",
       "    <tr>\n",
       "      <th>2</th>\n",
       "      <td>spam</td>\n",
       "      <td>Free entry in 2 a wkly comp to win FA Cup fina...</td>\n",
       "    </tr>\n",
       "    <tr>\n",
       "      <th>3</th>\n",
       "      <td>ham</td>\n",
       "      <td>U dun say so early hor... U c already then say...</td>\n",
       "    </tr>\n",
       "    <tr>\n",
       "      <th>4</th>\n",
       "      <td>ham</td>\n",
       "      <td>Nah I don't think he goes to usf, he lives aro...</td>\n",
       "    </tr>\n",
       "    <tr>\n",
       "      <th>...</th>\n",
       "      <td>...</td>\n",
       "      <td>...</td>\n",
       "    </tr>\n",
       "    <tr>\n",
       "      <th>5567</th>\n",
       "      <td>spam</td>\n",
       "      <td>This is the 2nd time we have tried 2 contact u...</td>\n",
       "    </tr>\n",
       "    <tr>\n",
       "      <th>5568</th>\n",
       "      <td>ham</td>\n",
       "      <td>Will ü b going to esplanade fr home?</td>\n",
       "    </tr>\n",
       "    <tr>\n",
       "      <th>5569</th>\n",
       "      <td>ham</td>\n",
       "      <td>Pity, * was in mood for that. So...any other s...</td>\n",
       "    </tr>\n",
       "    <tr>\n",
       "      <th>5570</th>\n",
       "      <td>ham</td>\n",
       "      <td>The guy did some bitching but I acted like i'd...</td>\n",
       "    </tr>\n",
       "    <tr>\n",
       "      <th>5571</th>\n",
       "      <td>ham</td>\n",
       "      <td>Rofl. Its true to its name</td>\n",
       "    </tr>\n",
       "  </tbody>\n",
       "</table>\n",
       "<p>5572 rows × 2 columns</p>\n",
       "</div>"
      ],
      "text/plain": [
       "     Category                                            Message\n",
       "0         ham  Go until jurong point, crazy.. Available only ...\n",
       "1         ham                      Ok lar... Joking wif u oni...\n",
       "2        spam  Free entry in 2 a wkly comp to win FA Cup fina...\n",
       "3         ham  U dun say so early hor... U c already then say...\n",
       "4         ham  Nah I don't think he goes to usf, he lives aro...\n",
       "...       ...                                                ...\n",
       "5567     spam  This is the 2nd time we have tried 2 contact u...\n",
       "5568      ham               Will ü b going to esplanade fr home?\n",
       "5569      ham  Pity, * was in mood for that. So...any other s...\n",
       "5570      ham  The guy did some bitching but I acted like i'd...\n",
       "5571      ham                         Rofl. Its true to its name\n",
       "\n",
       "[5572 rows x 2 columns]"
      ]
     },
     "execution_count": 3,
     "metadata": {},
     "output_type": "execute_result"
    }
   ],
   "source": [
    "spam_data"
   ]
  },
  {
   "cell_type": "code",
   "execution_count": 4,
   "id": "3b95ae68",
   "metadata": {},
   "outputs": [
    {
     "name": "stdout",
     "output_type": "stream",
     "text": [
      "Dataset Information:\n",
      "<class 'pandas.core.frame.DataFrame'>\n",
      "RangeIndex: 5572 entries, 0 to 5571\n",
      "Data columns (total 2 columns):\n",
      " #   Column    Non-Null Count  Dtype \n",
      "---  ------    --------------  ----- \n",
      " 0   Category  5572 non-null   object\n",
      " 1   Message   5572 non-null   object\n",
      "dtypes: object(2)\n",
      "memory usage: 87.2+ KB\n",
      "None\n"
     ]
    }
   ],
   "source": [
    "# Data Exploration and Preprocessing\n",
    "print(\"Dataset Information:\")\n",
    "print(spam_data.info())"
   ]
  },
  {
   "cell_type": "code",
   "execution_count": 5,
   "id": "a090833b",
   "metadata": {},
   "outputs": [
    {
     "name": "stdout",
     "output_type": "stream",
     "text": [
      "\n",
      "Missing Values:\n",
      "Category    0\n",
      "Message     0\n",
      "dtype: int64\n"
     ]
    }
   ],
   "source": [
    "# Check for missing values\n",
    "print(\"\\nMissing Values:\")\n",
    "print(spam_data.isnull().sum())"
   ]
  },
  {
   "cell_type": "code",
   "execution_count": 6,
   "id": "479699f1",
   "metadata": {},
   "outputs": [
    {
     "name": "stdout",
     "output_type": "stream",
     "text": [
      "\n",
      "Message Counts by Category:\n",
      "ham     4825\n",
      "spam     747\n",
      "Name: Category, dtype: int64\n"
     ]
    }
   ],
   "source": [
    "# Count the number of ham and spam messages\n",
    "print(\"\\nMessage Counts by Category:\")\n",
    "print(spam_data['Category'].value_counts())"
   ]
  },
  {
   "cell_type": "code",
   "execution_count": 7,
   "id": "efefa0cb",
   "metadata": {},
   "outputs": [
    {
     "data": {
      "image/png": "[encoded data removed]",
      "text/plain": [
       "<Figure size 600x400 with 1 Axes>"
      ]
     },
     "metadata": {},
     "output_type": "display_data"
    }
   ],
   "source": [
    "# Visualize the counts of ham and spam messages\n",
    "plt.figure(figsize=(6, 4))\n",
    "sns.countplot(data=spam_data, x='Category')\n",
    "plt.title('Counts of Ham and Spam Messages')\n",
    "plt.xlabel('Category')\n",
    "plt.ylabel('Count')\n",
    "plt.show()"
   ]
  },
  {
   "cell_type": "code",
   "execution_count": 8,
   "id": "1ef855b4",
   "metadata": {},
   "outputs": [],
   "source": [
    "# Tokenization and Padding\n",
    "tokenizer = Tokenizer()\n",
    "tokenizer.fit_on_texts(spam_data['Message'])\n",
    "X = tokenizer.texts_to_sequences(spam_data['Message'])\n",
    "X = pad_sequences(X)\n",
    "y = (spam_data['Category'] == 'spam').astype(int)\n",
    "\n",
    "X_train, X_test, y_train, y_test = train_test_split(X, y, test_size=0.2, random_state=42)"
   ]
  },
  {
   "cell_type": "code",
   "execution_count": 9,
   "id": "74b58eb9",
   "metadata": {},
   "outputs": [],
   "source": [
    "# Build an RNN model with Attention using the functional API\n",
    "input_layer = Input(shape=(X.shape[1],))\n",
    "embedding_layer = Embedding(input_dim=len(tokenizer.word_index) + 1, output_dim=32, input_length=X.shape[1])(input_layer)\n",
    "rnn_layer, state_h, state_c = LSTM(32, return_sequences=True, return_state=True)(embedding_layer)\n",
    "attention_output = Attention(name='attention')([state_h, rnn_layer])\n",
    "output_layer = Dense(1, activation='sigmoid')(attention_output)\n",
    "\n",
    "model = Model(inputs=input_layer, outputs=output_layer)\n",
    "\n",
    "model.compile(loss='binary_crossentropy', optimizer='rmsprop', metrics=['accuracy'])"
   ]
  },
  {
   "cell_type": "code",
   "execution_count": 10,
   "id": "f27f9b8f",
   "metadata": {},
   "outputs": [
    {
     "name": "stdout",
     "output_type": "stream",
     "text": [
      "Epoch 1/5\n",
      "56/56 [==============================] - 7s 84ms/step - loss: 0.4298 - accuracy: 0.8539 - val_loss: 0.4104 - val_accuracy: 0.8576\n",
      "Epoch 2/5\n",
      "56/56 [==============================] - 4s 73ms/step - loss: 0.3909 - accuracy: 0.8679 - val_loss: 0.4073 - val_accuracy: 0.8576\n",
      "Epoch 3/5\n",
      "56/56 [==============================] - 4s 70ms/step - loss: 0.3895 - accuracy: 0.8679 - val_loss: 0.4100 - val_accuracy: 0.8576\n",
      "Epoch 4/5\n",
      "56/56 [==============================] - 4s 73ms/step - loss: 0.3893 - accuracy: 0.8679 - val_loss: 0.4056 - val_accuracy: 0.8576\n",
      "Epoch 5/5\n",
      "56/56 [==============================] - 4s 76ms/step - loss: 0.3877 - accuracy: 0.8679 - val_loss: 0.4050 - val_accuracy: 0.8576\n"
     ]
    }
   ],
   "source": [
    "# Train the model\n",
    "history = model.fit(X_train, y_train, epochs=5, batch_size=64, validation_split=0.2)"
   ]
  },
  {
   "cell_type": "code",
   "execution_count": 11,
   "id": "beb83cc7",
   "metadata": {},
   "outputs": [
    {
     "name": "stdout",
     "output_type": "stream",
     "text": [
      "35/35 [==============================] - 1s 18ms/step - loss: 0.3891 - accuracy: 0.8664\n",
      "Model - Test Loss: 0.3891, Test Accuracy: 0.8664\n"
     ]
    }
   ],
   "source": [
    "# Evaluate the model\n",
    "loss, accuracy = model.evaluate(X_test, y_test)\n",
    "print(f\"Model - Test Loss: {loss:.4f}, Test Accuracy: {accuracy:.4f}\")"
   ]
  },
  {
   "cell_type": "code",
   "execution_count": 12,
   "id": "20dc6b07",
   "metadata": {},
   "outputs": [],
   "source": [
    "# Experiment with different hyperparameters and architectures\n",
    "# Increase the LSTM units and train for more epochs\n",
    "best_accuracy = 0\n",
    "best_model = None"
   ]
  },
  {
   "cell_type": "code",
   "execution_count": 13,
   "id": "36e3a5c6",
   "metadata": {},
   "outputs": [
    {
     "name": "stdout",
     "output_type": "stream",
     "text": [
      "Epoch 1/5\n",
      "56/56 [==============================] - 7s 84ms/step - loss: 0.3875 - accuracy: 0.8679 - val_loss: 0.4149 - val_accuracy: 0.8576\n",
      "Epoch 2/5\n",
      "56/56 [==============================] - 4s 73ms/step - loss: 0.3828 - accuracy: 0.8679 - val_loss: 0.4067 - val_accuracy: 0.8576\n",
      "Epoch 3/5\n",
      "56/56 [==============================] - 5s 93ms/step - loss: 0.3690 - accuracy: 0.8683 - val_loss: 0.3611 - val_accuracy: 0.8656\n",
      "Epoch 4/5\n",
      "56/56 [==============================] - 5s 89ms/step - loss: 0.3272 - accuracy: 0.8799 - val_loss: 0.3308 - val_accuracy: 0.8761\n",
      "Epoch 5/5\n",
      "56/56 [==============================] - 5s 94ms/step - loss: 0.2847 - accuracy: 0.8963 - val_loss: 0.2779 - val_accuracy: 0.8963\n",
      "35/35 [==============================] - 1s 23ms/step - loss: 0.2613 - accuracy: 0.9082\n",
      "Epoch 1/10\n",
      "56/56 [==============================] - 8s 96ms/step - loss: 0.2316 - accuracy: 0.9173 - val_loss: 0.2251 - val_accuracy: 0.9228\n",
      "Epoch 2/10\n",
      "56/56 [==============================] - 5s 93ms/step - loss: 0.1772 - accuracy: 0.9418 - val_loss: 0.1852 - val_accuracy: 0.9358\n",
      "Epoch 3/10\n",
      "56/56 [==============================] - 6s 100ms/step - loss: 0.1289 - accuracy: 0.9620 - val_loss: 0.1611 - val_accuracy: 0.9457\n",
      "Epoch 4/10\n",
      "56/56 [==============================] - 5s 85ms/step - loss: 0.0973 - accuracy: 0.9730 - val_loss: 0.1341 - val_accuracy: 0.9599\n",
      "Epoch 5/10\n",
      "56/56 [==============================] - 5s 91ms/step - loss: 0.0741 - accuracy: 0.9809 - val_loss: 0.1227 - val_accuracy: 0.9645\n",
      "Epoch 6/10\n",
      "56/56 [==============================] - 5s 93ms/step - loss: 0.0603 - accuracy: 0.9855 - val_loss: 0.1256 - val_accuracy: 0.9636\n",
      "Epoch 7/10\n",
      "56/56 [==============================] - 6s 101ms/step - loss: 0.0490 - accuracy: 0.9881 - val_loss: 0.1083 - val_accuracy: 0.9709\n",
      "Epoch 8/10\n",
      "56/56 [==============================] - 5s 93ms/step - loss: 0.0415 - accuracy: 0.9897 - val_loss: 0.1120 - val_accuracy: 0.9707\n",
      "Epoch 9/10\n",
      "56/56 [==============================] - 5s 90ms/step - loss: 0.0360 - accuracy: 0.9905 - val_loss: 0.1081 - val_accuracy: 0.9716\n",
      "Epoch 10/10\n",
      "56/56 [==============================] - 5s 91ms/step - loss: 0.0287 - accuracy: 0.9928 - val_loss: 0.2043 - val_accuracy: 0.9392\n",
      "35/35 [==============================] - 1s 20ms/step - loss: 0.1775 - accuracy: 0.9459\n",
      "Epoch 1/15\n",
      "56/56 [==============================] - 7s 90ms/step - loss: 0.0261 - accuracy: 0.9936 - val_loss: 0.1085 - val_accuracy: 0.9736\n",
      "Epoch 2/15\n",
      "56/56 [==============================] - 5s 88ms/step - loss: 0.0274 - accuracy: 0.9933 - val_loss: 0.1092 - val_accuracy: 0.9746\n",
      "Epoch 3/15\n",
      "56/56 [==============================] - 5s 90ms/step - loss: 0.0161 - accuracy: 0.9965 - val_loss: 0.1149 - val_accuracy: 0.9738\n",
      "Epoch 4/15\n",
      "56/56 [==============================] - 5s 92ms/step - loss: 0.0199 - accuracy: 0.9943 - val_loss: 0.1061 - val_accuracy: 0.9752\n",
      "Epoch 5/15\n",
      "56/56 [==============================] - 5s 96ms/step - loss: 0.0139 - accuracy: 0.9969 - val_loss: 0.1283 - val_accuracy: 0.9650\n",
      "Epoch 6/15\n",
      "56/56 [==============================] - 5s 96ms/step - loss: 0.0119 - accuracy: 0.9974 - val_loss: 0.1466 - val_accuracy: 0.9618\n",
      "Epoch 7/15\n",
      "56/56 [==============================] - 5s 91ms/step - loss: 0.0118 - accuracy: 0.9973 - val_loss: 0.1091 - val_accuracy: 0.9755\n",
      "Epoch 8/15\n",
      "56/56 [==============================] - 5s 91ms/step - loss: 0.0092 - accuracy: 0.9978 - val_loss: 0.1244 - val_accuracy: 0.9733\n",
      "Epoch 9/15\n",
      "56/56 [==============================] - 5s 88ms/step - loss: 0.0103 - accuracy: 0.9974 - val_loss: 0.1204 - val_accuracy: 0.9734\n",
      "Epoch 10/15\n",
      "56/56 [==============================] - 5s 94ms/step - loss: 0.0086 - accuracy: 0.9979 - val_loss: 0.1141 - val_accuracy: 0.9749\n",
      "Epoch 11/15\n",
      "56/56 [==============================] - 5s 94ms/step - loss: 0.0092 - accuracy: 0.9978 - val_loss: 0.1169 - val_accuracy: 0.9765\n",
      "Epoch 12/15\n",
      "56/56 [==============================] - 5s 92ms/step - loss: 0.0064 - accuracy: 0.9987 - val_loss: 0.1916 - val_accuracy: 0.9535\n",
      "Epoch 13/15\n",
      "56/56 [==============================] - 5s 94ms/step - loss: 0.0102 - accuracy: 0.9967 - val_loss: 0.1175 - val_accuracy: 0.9745\n",
      "Epoch 14/15\n",
      "56/56 [==============================] - 5s 98ms/step - loss: 0.0060 - accuracy: 0.9987 - val_loss: 0.1174 - val_accuracy: 0.9760\n",
      "Epoch 15/15\n",
      "56/56 [==============================] - 6s 105ms/step - loss: 0.0136 - accuracy: 0.9965 - val_loss: 0.1205 - val_accuracy: 0.9758\n",
      "35/35 [==============================] - 1s 23ms/step - loss: 0.0775 - accuracy: 0.9842\n",
      "Epoch 1/5\n",
      "56/56 [==============================] - 7s 101ms/step - loss: 0.0071 - accuracy: 0.9982 - val_loss: 0.1266 - val_accuracy: 0.9724\n",
      "Epoch 2/5\n",
      "56/56 [==============================] - 5s 97ms/step - loss: 0.0049 - accuracy: 0.9990 - val_loss: 0.1243 - val_accuracy: 0.9771\n",
      "Epoch 3/5\n",
      "56/56 [==============================] - 6s 106ms/step - loss: 0.0056 - accuracy: 0.9988 - val_loss: 0.1207 - val_accuracy: 0.9778\n",
      "Epoch 4/5\n",
      "56/56 [==============================] - 6s 104ms/step - loss: 0.0066 - accuracy: 0.9982 - val_loss: 0.1215 - val_accuracy: 0.9779\n",
      "Epoch 5/5\n",
      "56/56 [==============================] - 5s 97ms/step - loss: 0.0053 - accuracy: 0.9986 - val_loss: 0.1133 - val_accuracy: 0.9760\n",
      "35/35 [==============================] - 1s 24ms/step - loss: 0.0782 - accuracy: 0.9836\n",
      "Epoch 1/10\n",
      "56/56 [==============================] - 8s 101ms/step - loss: 0.0064 - accuracy: 0.9982 - val_loss: 0.1308 - val_accuracy: 0.9772\n",
      "Epoch 2/10\n",
      "56/56 [==============================] - 6s 99ms/step - loss: 0.0042 - accuracy: 0.9991 - val_loss: 0.1344 - val_accuracy: 0.9758\n",
      "Epoch 3/10\n",
      "56/56 [==============================] - 5s 97ms/step - loss: 0.0051 - accuracy: 0.9987 - val_loss: 0.1290 - val_accuracy: 0.9766\n",
      "Epoch 4/10\n",
      "56/56 [==============================] - 6s 99ms/step - loss: 0.0047 - accuracy: 0.9987 - val_loss: 0.1227 - val_accuracy: 0.9750\n",
      "Epoch 5/10\n",
      "56/56 [==============================] - 6s 109ms/step - loss: 0.0029 - accuracy: 0.9994 - val_loss: 0.1509 - val_accuracy: 0.9760\n",
      "Epoch 6/10\n",
      "56/56 [==============================] - 5s 98ms/step - loss: 0.0052 - accuracy: 0.9986 - val_loss: 0.1405 - val_accuracy: 0.9703\n",
      "Epoch 7/10\n",
      "56/56 [==============================] - 6s 102ms/step - loss: 0.0038 - accuracy: 0.9993 - val_loss: 0.1513 - val_accuracy: 0.9737\n",
      "Epoch 8/10\n",
      "56/56 [==============================] - 6s 100ms/step - loss: 0.0040 - accuracy: 0.9991 - val_loss: 0.1350 - val_accuracy: 0.9778\n",
      "Epoch 9/10\n",
      "56/56 [==============================] - 6s 113ms/step - loss: 0.0034 - accuracy: 0.9993 - val_loss: 0.1282 - val_accuracy: 0.9775\n",
      "Epoch 10/10\n",
      "56/56 [==============================] - 6s 102ms/step - loss: 0.0049 - accuracy: 0.9983 - val_loss: 0.1357 - val_accuracy: 0.9752\n",
      "35/35 [==============================] - 1s 24ms/step - loss: 0.0890 - accuracy: 0.9839\n",
      "Epoch 1/15\n",
      "56/56 [==============================] - 10s 139ms/step - loss: 0.0035 - accuracy: 0.9989 - val_loss: 0.1335 - val_accuracy: 0.9756\n",
      "Epoch 2/15\n",
      "56/56 [==============================] - 7s 131ms/step - loss: 0.0038 - accuracy: 0.9989 - val_loss: 0.1343 - val_accuracy: 0.9765\n",
      "Epoch 3/15\n",
      "56/56 [==============================] - 7s 131ms/step - loss: 0.0072 - accuracy: 0.9977 - val_loss: 0.1299 - val_accuracy: 0.9763\n",
      "Epoch 4/15\n",
      "56/56 [==============================] - 7s 127ms/step - loss: 0.0025 - accuracy: 0.9994 - val_loss: 0.1429 - val_accuracy: 0.9759\n",
      "Epoch 5/15\n",
      "56/56 [==============================] - 7s 131ms/step - loss: 0.0056 - accuracy: 0.9983 - val_loss: 0.1420 - val_accuracy: 0.9750\n",
      "Epoch 6/15\n",
      "56/56 [==============================] - 7s 127ms/step - loss: 0.0022 - accuracy: 0.9994 - val_loss: 0.1439 - val_accuracy: 0.9747\n",
      "Epoch 7/15\n",
      "56/56 [==============================] - 7s 125ms/step - loss: 0.0067 - accuracy: 0.9981 - val_loss: 0.1386 - val_accuracy: 0.9758\n",
      "Epoch 8/15\n",
      "56/56 [==============================] - 7s 132ms/step - loss: 0.0022 - accuracy: 0.9997 - val_loss: 0.1409 - val_accuracy: 0.9757\n",
      "Epoch 9/15\n",
      "56/56 [==============================] - 7s 126ms/step - loss: 0.0039 - accuracy: 0.9991 - val_loss: 0.1469 - val_accuracy: 0.9750\n",
      "Epoch 10/15\n",
      "56/56 [==============================] - 7s 129ms/step - loss: 0.0025 - accuracy: 0.9997 - val_loss: 0.1399 - val_accuracy: 0.9755\n"
     ]
    },
    {
     "name": "stdout",
     "output_type": "stream",
     "text": [
      "Epoch 11/15\n",
      "56/56 [==============================] - 7s 125ms/step - loss: 0.0021 - accuracy: 0.9997 - val_loss: 0.1546 - val_accuracy: 0.9752\n",
      "Epoch 12/15\n",
      "56/56 [==============================] - 7s 126ms/step - loss: 0.0019 - accuracy: 0.9996 - val_loss: 0.1494 - val_accuracy: 0.9751\n",
      "Epoch 13/15\n",
      "56/56 [==============================] - 7s 127ms/step - loss: 0.0069 - accuracy: 0.9972 - val_loss: 0.1436 - val_accuracy: 0.9762\n",
      "Epoch 14/15\n",
      "56/56 [==============================] - 7s 128ms/step - loss: 0.0017 - accuracy: 0.9997 - val_loss: 0.1530 - val_accuracy: 0.9738\n",
      "Epoch 15/15\n",
      "56/56 [==============================] - 7s 128ms/step - loss: 0.0040 - accuracy: 0.9989 - val_loss: 0.1458 - val_accuracy: 0.9744\n",
      "35/35 [==============================] - 1s 28ms/step - loss: 0.0956 - accuracy: 0.9833\n",
      "Epoch 1/5\n",
      "56/56 [==============================] - 9s 123ms/step - loss: 0.0067 - accuracy: 0.9977 - val_loss: 0.1422 - val_accuracy: 0.9758\n",
      "Epoch 2/5\n",
      "56/56 [==============================] - 6s 115ms/step - loss: 0.0017 - accuracy: 0.9997 - val_loss: 0.7164 - val_accuracy: 0.8458\n",
      "Epoch 3/5\n",
      "56/56 [==============================] - 6s 113ms/step - loss: 0.0102 - accuracy: 0.9969 - val_loss: 0.1423 - val_accuracy: 0.9742\n",
      "Epoch 4/5\n",
      "56/56 [==============================] - 6s 113ms/step - loss: 0.0022 - accuracy: 0.9995 - val_loss: 0.1483 - val_accuracy: 0.9761\n",
      "Epoch 5/5\n",
      "56/56 [==============================] - 6s 114ms/step - loss: 0.0048 - accuracy: 0.9981 - val_loss: 0.1466 - val_accuracy: 0.9758\n",
      "35/35 [==============================] - 1s 25ms/step - loss: 0.1030 - accuracy: 0.9828\n",
      "Epoch 1/10\n",
      "56/56 [==============================] - 8s 113ms/step - loss: 0.0041 - accuracy: 0.9984 - val_loss: 0.1428 - val_accuracy: 0.9760\n",
      "Epoch 2/10\n",
      "56/56 [==============================] - 6s 108ms/step - loss: 0.0023 - accuracy: 0.9994 - val_loss: 0.1456 - val_accuracy: 0.9763\n",
      "Epoch 3/10\n",
      "56/56 [==============================] - 6s 107ms/step - loss: 0.0025 - accuracy: 0.9994 - val_loss: 0.1471 - val_accuracy: 0.9755\n",
      "Epoch 4/10\n",
      "56/56 [==============================] - 6s 107ms/step - loss: 0.0014 - accuracy: 0.9998 - val_loss: 0.1577 - val_accuracy: 0.9740\n",
      "Epoch 5/10\n",
      "56/56 [==============================] - 6s 107ms/step - loss: 0.0068 - accuracy: 0.9976 - val_loss: 0.1391 - val_accuracy: 0.9754\n",
      "Epoch 6/10\n",
      "56/56 [==============================] - 6s 109ms/step - loss: 0.0013 - accuracy: 0.9998 - val_loss: 0.1496 - val_accuracy: 0.9759\n",
      "Epoch 7/10\n",
      "56/56 [==============================] - 6s 109ms/step - loss: 0.0018 - accuracy: 0.9997 - val_loss: 0.1499 - val_accuracy: 0.9758\n",
      "Epoch 8/10\n",
      "56/56 [==============================] - 6s 108ms/step - loss: 0.0012 - accuracy: 0.9998 - val_loss: 0.1646 - val_accuracy: 0.9748\n",
      "Epoch 9/10\n",
      "56/56 [==============================] - 6s 107ms/step - loss: 0.0094 - accuracy: 0.9977 - val_loss: 0.1458 - val_accuracy: 0.9756\n",
      "Epoch 10/10\n",
      "56/56 [==============================] - 6s 109ms/step - loss: 0.0011 - accuracy: 0.9998 - val_loss: 0.1528 - val_accuracy: 0.9758\n",
      "35/35 [==============================] - 1s 24ms/step - loss: 0.1054 - accuracy: 0.9841\n",
      "Epoch 1/15\n",
      "56/56 [==============================] - 8s 109ms/step - loss: 0.0289 - accuracy: 0.9942 - val_loss: 0.1515 - val_accuracy: 0.9727\n",
      "Epoch 2/15\n",
      "56/56 [==============================] - 6s 107ms/step - loss: 0.0012 - accuracy: 0.9998 - val_loss: 0.1610 - val_accuracy: 0.9733\n",
      "Epoch 3/15\n",
      "56/56 [==============================] - 6s 110ms/step - loss: 0.0011 - accuracy: 0.9998 - val_loss: 0.1626 - val_accuracy: 0.9748\n",
      "Epoch 4/15\n",
      "56/56 [==============================] - 6s 108ms/step - loss: 0.0039 - accuracy: 0.9987 - val_loss: 0.1474 - val_accuracy: 0.9746\n",
      "Epoch 5/15\n",
      "56/56 [==============================] - 6s 108ms/step - loss: 0.0021 - accuracy: 0.9994 - val_loss: 0.1416 - val_accuracy: 0.9761\n",
      "Epoch 6/15\n",
      "56/56 [==============================] - 6s 110ms/step - loss: 0.0011 - accuracy: 0.9998 - val_loss: 0.1515 - val_accuracy: 0.9750\n",
      "Epoch 7/15\n",
      "56/56 [==============================] - 6s 109ms/step - loss: 0.0025 - accuracy: 0.9993 - val_loss: 0.1498 - val_accuracy: 0.9750\n",
      "Epoch 8/15\n",
      "56/56 [==============================] - 6s 108ms/step - loss: 0.0049 - accuracy: 0.9980 - val_loss: 0.1503 - val_accuracy: 0.9761\n",
      "Epoch 9/15\n",
      "56/56 [==============================] - 6s 109ms/step - loss: 0.0011 - accuracy: 0.9998 - val_loss: 0.1494 - val_accuracy: 0.9748\n",
      "Epoch 10/15\n",
      "56/56 [==============================] - 6s 110ms/step - loss: 0.0011 - accuracy: 0.9998 - val_loss: 0.1706 - val_accuracy: 0.9747\n",
      "Epoch 11/15\n",
      "56/56 [==============================] - 6s 110ms/step - loss: 0.0044 - accuracy: 0.9987 - val_loss: 0.1497 - val_accuracy: 0.9752\n",
      "Epoch 12/15\n",
      "56/56 [==============================] - 6s 111ms/step - loss: 0.0043 - accuracy: 0.9985 - val_loss: 0.1460 - val_accuracy: 0.9759\n",
      "Epoch 13/15\n",
      "56/56 [==============================] - 6s 111ms/step - loss: 9.0914e-04 - accuracy: 0.9998 - val_loss: 0.1564 - val_accuracy: 0.9748\n",
      "Epoch 14/15\n",
      "56/56 [==============================] - 6s 110ms/step - loss: 0.0014 - accuracy: 0.9996 - val_loss: 0.1615 - val_accuracy: 0.9746\n",
      "Epoch 15/15\n",
      "56/56 [==============================] - 6s 112ms/step - loss: 0.0026 - accuracy: 0.9993 - val_loss: 0.1553 - val_accuracy: 0.9749\n",
      "35/35 [==============================] - 1s 25ms/step - loss: 0.1081 - accuracy: 0.9833\n"
     ]
    }
   ],
   "source": [
    "for lstm_units in [32, 64, 128]:\n",
    "    for epochs in [5, 10, 15]:\n",
    "        model = tf.keras.models.Model(inputs=input_layer, outputs=output_layer)\n",
    "        model.compile(loss='binary_crossentropy', optimizer='rmsprop', metrics=['accuracy'])\n",
    "        history = model.fit(X_train, y_train, epochs=epochs, batch_size=64, validation_split=0.2)\n",
    "        _, accuracy = model.evaluate(X_test, y_test)\n",
    "        \n",
    "        if accuracy > best_accuracy:\n",
    "            best_accuracy = accuracy\n",
    "            best_model = model\n",
    "            best_hyperparameters = {'LSTM Units': lstm_units, 'Epochs': epochs}"
   ]
  },
  {
   "cell_type": "code",
   "execution_count": 14,
   "id": "ee7ef864",
   "metadata": {},
   "outputs": [
    {
     "name": "stdout",
     "output_type": "stream",
     "text": [
      "Best Hyperparameters:\n",
      "{'LSTM Units': 32, 'Epochs': 15}\n",
      "Best Model - Test Accuracy: 0.9842\n"
     ]
    }
   ],
   "source": [
    "print(\"Best Hyperparameters:\")\n",
    "print(best_hyperparameters)\n",
    "print(f\"Best Model - Test Accuracy: {best_accuracy:.4f}\")"
   ]
  },
  {
   "cell_type": "code",
   "execution_count": 15,
   "id": "2c883f83",
   "metadata": {},
   "outputs": [],
   "source": [
    "# Visualize the attention weights\n",
    "class AttentionLayer(tf.keras.layers.Layer):\n",
    "    def __init__(self, **kwargs):\n",
    "        super(AttentionLayer, self).__init__(**kwargs)\n",
    "\n",
    "    def build(self, input_shape):\n",
    "        dim = input_shape[-1][-1]\n",
    "        self.W_q = self.add_weight(name=\"W_q\",\n",
    "                                   shape=(dim, dim),\n",
    "                                   initializer=\"uniform\",\n",
    "                                   trainable=True)\n",
    "        self.W_v = self.add_weight(name=\"W_v\",\n",
    "                                   shape=(dim, dim),\n",
    "                                   initializer=\"uniform\",\n",
    "                                   trainable=True)\n",
    "        super(AttentionLayer, self).build(input_shape)\n",
    "\n",
    "    def call(self, x):\n",
    "        q, v = x[0], x[1]\n",
    "        q = tf.matmul(q, self.W_q)\n",
    "        v = tf.matmul(v, self.W_v)\n",
    "        score = tf.matmul(q, tf.transpose(v, perm=[0, 2, 1]))\n",
    "        attention_weights = tf.nn.softmax(score, axis=-1)\n",
    "        context_vector = tf.matmul(attention_weights, v)\n",
    "        return context_vector"
   ]
  },
  {
   "cell_type": "code",
   "execution_count": 16,
   "id": "44bc4f1d",
   "metadata": {},
   "outputs": [],
   "source": [
    "# Define the attention model with SimpleRNN\n",
    "input_layer = tf.keras.layers.Input(shape=(X_train.shape[1],))\n",
    "embedding_layer = Embedding(input_dim=len(tokenizer.word_index) + 1, output_dim=32, input_length=X_train.shape[1])(input_layer)\n",
    "rnn_layer, state_h = SimpleRNN(32, return_sequences=True, return_state=True)(embedding_layer)\n",
    "attention = AttentionLayer()([rnn_layer, rnn_layer])\n",
    "output_layer = Dense(1, activation='sigmoid')(attention)\n",
    "attention_model = tf.keras.models.Model(inputs=input_layer, outputs=output_layer)"
   ]
  },
  {
   "cell_type": "code",
   "execution_count": 17,
   "id": "9a12ef04",
   "metadata": {},
   "outputs": [
    {
     "name": "stdout",
     "output_type": "stream",
     "text": [
      "Epoch 1/5\n",
      "56/56 [==============================] - 8s 116ms/step - loss: 0.4144 - accuracy: 0.8527 - val_loss: 0.4165 - val_accuracy: 0.8576\n",
      "Epoch 2/5\n",
      "56/56 [==============================] - 6s 116ms/step - loss: 0.3813 - accuracy: 0.8694 - val_loss: 0.4248 - val_accuracy: 0.8576\n",
      "Epoch 3/5\n",
      "56/56 [==============================] - 7s 119ms/step - loss: 0.1800 - accuracy: 0.9441 - val_loss: 0.1499 - val_accuracy: 0.9585\n",
      "Epoch 4/5\n",
      "56/56 [==============================] - 7s 119ms/step - loss: 0.1029 - accuracy: 0.9723 - val_loss: 0.1079 - val_accuracy: 0.9708\n",
      "Epoch 5/5\n",
      "56/56 [==============================] - 7s 119ms/step - loss: 0.0484 - accuracy: 0.9873 - val_loss: 0.0997 - val_accuracy: 0.9667\n"
     ]
    }
   ],
   "source": [
    "# Compile and train the attention model\n",
    "attention_model.compile(loss='binary_crossentropy', optimizer='rmsprop', metrics=['accuracy'])\n",
    "attention_history = attention_model.fit(X_train, y_train, epochs=5, batch_size=64, validation_split=0.2)"
   ]
  },
  {
   "cell_type": "code",
   "execution_count": 18,
   "id": "b8159ffe",
   "metadata": {},
   "outputs": [
    {
     "name": "stdout",
     "output_type": "stream",
     "text": [
      "35/35 [==============================] - 1s 22ms/step - loss: 0.0881 - accuracy: 0.9741\n",
      "SimpleRNN Model with Attention - Test Loss: 0.0881, Test Accuracy: 0.9741\n"
     ]
    }
   ],
   "source": [
    "# Evaluate the SimpleRNN model with attention\n",
    "simple_rnn_loss, simple_rnn_accuracy = attention_model.evaluate(X_test, y_test)\n",
    "print(f\"SimpleRNN Model with Attention - Test Loss: {simple_rnn_loss:.4f}, Test Accuracy: {simple_rnn_accuracy:.4f}\")"
   ]
  },
  {
   "cell_type": "code",
   "execution_count": 19,
   "id": "4fe86b03",
   "metadata": {},
   "outputs": [
    {
     "data": {
      "image/png": "[encoded data removed]",
      "text/plain": [
       "<Figure size 1000x1000 with 2 Axes>"
      ]
     },
     "metadata": {},
     "output_type": "display_data"
    }
   ],
   "source": [
    "# Access the attention layer named 'attention_layer' (based on the model summary)\n",
    "attention_layer_name = 'attention_layer'\n",
    "\n",
    "# Access the attention layer by its name\n",
    "attention_layer = attention_model.get_layer(attention_layer_name)\n",
    "\n",
    "# Proceed to get the attention weights\n",
    "attention_weights = attention_layer.get_weights()[0]\n",
    "\n",
    "# Visualize the attention weights\n",
    "import matplotlib.pyplot as plt\n",
    "plt.figure(figsize=(10, 10))\n",
    "plt.imshow(attention_weights, cmap='viridis', aspect='auto')\n",
    "plt.title('Attention Weights')\n",
    "plt.xlabel('Time Steps')\n",
    "plt.ylabel('Hidden States')\n",
    "plt.colorbar()\n",
    "plt.show()"
   ]
  },
  {
   "cell_type": "code",
   "execution_count": 20,
   "id": "6b8e8a03",
   "metadata": {},
   "outputs": [
    {
     "data": {
      "text/plain": [
       "array([[ 0.01413357, -0.05468139, -0.02161095, ...,  0.04147114,\n",
       "         0.03295815, -0.04257136],\n",
       "       [ 0.00922726,  0.02590523, -0.06293691, ...,  0.06096992,\n",
       "        -0.06682593, -0.090224  ],\n",
       "       [-0.02193675,  0.03315693, -0.052814  , ..., -0.02341064,\n",
       "        -0.05202717,  0.0191839 ],\n",
       "       ...,\n",
       "       [ 0.08685465,  0.08607501, -0.07714911, ...,  0.03905118,\n",
       "        -0.04468546, -0.05913616],\n",
       "       [-0.08984665, -0.10696897,  0.01876741, ..., -0.10002024,\n",
       "         0.0651428 ,  0.02717783],\n",
       "       [-0.01706201,  0.02883875, -0.00060362, ..., -0.02261004,\n",
       "         0.01243794, -0.04325589]], dtype=float32)"
      ]
     },
     "execution_count": 20,
     "metadata": {},
     "output_type": "execute_result"
    }
   ],
   "source": [
    "attention_weights"
   ]
  },
  {
   "cell_type": "code",
   "execution_count": 21,
   "id": "1f089749",
   "metadata": {},
   "outputs": [
    {
     "data": {
      "text/plain": [
       "<__main__.AttentionLayer at 0x1fdd9d77ed0>"
      ]
     },
     "execution_count": 21,
     "metadata": {},
     "output_type": "execute_result"
    }
   ],
   "source": [
    "attention_layer"
   ]
  },
  {
   "cell_type": "code",
   "execution_count": 22,
   "id": "8771cb83",
   "metadata": {},
   "outputs": [
    {
     "name": "stdout",
     "output_type": "stream",
     "text": [
      "1/1 [==============================] - 0s 415ms/step\n",
      "Shape of attention_weights: (1, 1, 32)\n"
     ]
    },
    {
     "data": {
      "image/png": "[encoded data removed]",
      "text/plain": [
       "<Figure size 1000x600 with 2 Axes>"
      ]
     },
     "metadata": {},
     "output_type": "display_data"
    }
   ],
   "source": [
    "# Function to extract attention weights for a given input sequence\n",
    "def get_attention_weights(model, input_sequence):\n",
    "    # Create a sub-model that outputs attention weights\n",
    "    attention_extractor = Model(inputs=model.input, outputs=model.get_layer('attention').output)\n",
    "    \n",
    "    # Get attention weights for the input sequence\n",
    "    attention_weights = attention_extractor.predict(input_sequence)\n",
    "    \n",
    "    return attention_weights\n",
    "\n",
    "# A specific example from our test data\n",
    "example_index = 3\n",
    "\n",
    "# Get attention weights for the chosen example\n",
    "attention_weights = get_attention_weights(best_model, X_test[example_index].reshape(1, -1))\n",
    "\n",
    "# Print the shape of attention_weights to understand its dimensions\n",
    "print(\"Shape of attention_weights:\", attention_weights.shape)\n",
    "\n",
    "# Plot the heatmap to visualize attention weights\n",
    "plt.figure(figsize=(10, 6))\n",
    "plt.imshow(attention_weights[0], cmap='viridis', aspect='auto')  \n",
    "plt.title('Attention Weights')\n",
    "plt.xlabel('Input Sequence')\n",
    "plt.ylabel('Time Step')\n",
    "plt.colorbar()\n",
    "plt.show()\n"
   ]
  }
 ],
 "metadata": {
  "kernelspec": {
   "display_name": "Python 3 (ipykernel)",
   "language": "python",
   "name": "python3"
  },
  "language_info": {
   "codemirror_mode": {
    "name": "ipython",
    "version": 3
   },
   "file_extension": ".py",
   "mimetype": "text/x-python",
   "name": "python",
   "nbconvert_exporter": "python",
   "pygments_lexer": "ipython3",
   "version": "3.12.1"
  }
 },
 "nbformat": 4,
 "nbformat_minor": 5
}
